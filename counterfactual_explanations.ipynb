{
 "cells": [
  {
   "cell_type": "markdown",
   "source": [
    "# Example counterfactual explanation generation workflow"
   ],
   "metadata": {
    "collapsed": false
   }
  },
  {
   "cell_type": "markdown",
   "source": [
    "## train GNN"
   ],
   "metadata": {
    "collapsed": false
   }
  },
  {
   "cell_type": "code",
   "execution_count": 3,
   "outputs": [],
   "source": [
    "import torch\n",
    "from torch.optim import AdamW\n",
    "from models import get_model\n",
    "from utils import get_loader, train, test, evaluation\n",
    "loader_name = 'Neighbor'\n",
    "hidden_size = 128\n",
    "model_name = 'RGCN'\n",
    "learning_rate = 0.002\n",
    "epoch_num = 200\n",
    "data_path = 'data/processed/data_homo.pt'\n",
    "model_save_path = \"models/\"\n",
    "# Set up the device for training\n",
    "#device = torch.device('cuda' if torch.cuda.is_available() else 'cpu')\n",
    "device = torch.device('cpu')\n",
    "num_relations = 5\n",
    "## DATA LOADING AND SAMPLING\n",
    "data = torch.load(data_path)\n",
    "edge_type = data.edge_attr[:, 1:].argmax(dim=1)\n",
    "# print(f\"HeteroData object: {data}\")\n",
    "train_loader, val_loader, test_loader = get_loader(data, loader_name)  # Initialise Dataloaders\n",
    "\n",
    "## MODELLING\n",
    "num_features = data.x.shape[1]\n",
    "num_classes = data.y.shape[1]\n",
    "model = get_model(model_name, num_features, hidden_size, num_classes, device)\n",
    "optimizer = AdamW(model.parameters(), lr=learning_rate)\n"
   ],
   "metadata": {
    "collapsed": false
   }
  },
  {
   "cell_type": "code",
   "execution_count": 4,
   "outputs": [
    {
     "name": "stdout",
     "output_type": "stream",
     "text": [
      "Epoch: 01, Loss: 0.1154,  Val: 0.0425 Test: 0.0450\n",
      "Epoch: 02, Loss: 0.0384,  Val: 0.0312 Test: 0.0318\n",
      "Epoch: 03, Loss: 0.0303,  Val: 0.0270 Test: 0.0271\n",
      "Epoch: 04, Loss: 0.0267,  Val: 0.0242 Test: 0.0245\n",
      "Epoch: 05, Loss: 0.0242,  Val: 0.0223 Test: 0.0225\n",
      "Epoch: 06, Loss: 0.0224,  Val: 0.0206 Test: 0.0210\n",
      "Epoch: 07, Loss: 0.0209,  Val: 0.0197 Test: 0.0200\n",
      "Epoch: 08, Loss: 0.0195,  Val: 0.0189 Test: 0.0190\n",
      "Epoch: 09, Loss: 0.0183,  Val: 0.0177 Test: 0.0174\n",
      "Epoch: 10, Loss: 0.0173,  Val: 0.0166 Test: 0.0168\n",
      "Epoch: 11, Loss: 0.0166,  Val: 0.0160 Test: 0.0160\n",
      "Epoch: 12, Loss: 0.0158,  Val: 0.0154 Test: 0.0153\n",
      "Epoch: 13, Loss: 0.0151,  Val: 0.0148 Test: 0.0148\n",
      "Epoch: 14, Loss: 0.0147,  Val: 0.0146 Test: 0.0144\n",
      "Epoch: 15, Loss: 0.0140,  Val: 0.0141 Test: 0.0141\n",
      "Epoch: 16, Loss: 0.0138,  Val: 0.0139 Test: 0.0140\n",
      "Epoch: 17, Loss: 0.0134,  Val: 0.0135 Test: 0.0137\n",
      "Epoch: 18, Loss: 0.0128,  Val: 0.0132 Test: 0.0129\n",
      "Epoch: 19, Loss: 0.0127,  Val: 0.0130 Test: 0.0129\n",
      "Epoch: 20, Loss: 0.0123,  Val: 0.0131 Test: 0.0128\n",
      "Epoch: 21, Loss: 0.0120,  Val: 0.0124 Test: 0.0123\n",
      "Epoch: 22, Loss: 0.0119,  Val: 0.0121 Test: 0.0120\n",
      "Epoch: 23, Loss: 0.0116,  Val: 0.0119 Test: 0.0116\n",
      "Epoch: 24, Loss: 0.0112,  Val: 0.0116 Test: 0.0115\n",
      "Epoch: 25, Loss: 0.0110,  Val: 0.0115 Test: 0.0114\n",
      "Epoch: 26, Loss: 0.0108,  Val: 0.0112 Test: 0.0112\n",
      "Epoch: 27, Loss: 0.0108,  Val: 0.0109 Test: 0.0110\n",
      "Epoch: 28, Loss: 0.0103,  Val: 0.0109 Test: 0.0107\n",
      "Epoch: 29, Loss: 0.0101,  Val: 0.0106 Test: 0.0104\n",
      "Epoch: 30, Loss: 0.0100,  Val: 0.0105 Test: 0.0105\n",
      "Epoch: 31, Loss: 0.0100,  Val: 0.0107 Test: 0.0106\n",
      "Epoch: 32, Loss: 0.0098,  Val: 0.0105 Test: 0.0103\n",
      "Epoch: 33, Loss: 0.0094,  Val: 0.0101 Test: 0.0100\n",
      "Epoch: 34, Loss: 0.0094,  Val: 0.0104 Test: 0.0104\n",
      "Epoch: 35, Loss: 0.0093,  Val: 0.0101 Test: 0.0099\n",
      "Epoch: 36, Loss: 0.0091,  Val: 0.0097 Test: 0.0097\n",
      "Epoch: 37, Loss: 0.0089,  Val: 0.0098 Test: 0.0097\n",
      "Epoch: 38, Loss: 0.0087,  Val: 0.0095 Test: 0.0092\n",
      "Epoch: 39, Loss: 0.0088,  Val: 0.0094 Test: 0.0094\n",
      "Epoch: 40, Loss: 0.0087,  Val: 0.0094 Test: 0.0092\n",
      "Epoch: 41, Loss: 0.0083,  Val: 0.0090 Test: 0.0087\n",
      "Epoch: 42, Loss: 0.0082,  Val: 0.0090 Test: 0.0090\n",
      "Epoch: 43, Loss: 0.0081,  Val: 0.0089 Test: 0.0088\n",
      "Epoch: 44, Loss: 0.0080,  Val: 0.0087 Test: 0.0086\n",
      "Epoch: 45, Loss: 0.0081,  Val: 0.0088 Test: 0.0085\n",
      "Epoch: 46, Loss: 0.0080,  Val: 0.0085 Test: 0.0084\n",
      "Epoch: 47, Loss: 0.0077,  Val: 0.0085 Test: 0.0083\n",
      "Epoch: 48, Loss: 0.0076,  Val: 0.0083 Test: 0.0081\n",
      "Epoch: 49, Loss: 0.0076,  Val: 0.0081 Test: 0.0081\n",
      "Epoch: 50, Loss: 0.0073,  Val: 0.0080 Test: 0.0077\n",
      "Epoch: 51, Loss: 0.0072,  Val: 0.0079 Test: 0.0077\n",
      "Epoch: 52, Loss: 0.0072,  Val: 0.0077 Test: 0.0075\n",
      "Epoch: 53, Loss: 0.0069,  Val: 0.0075 Test: 0.0074\n",
      "Epoch: 54, Loss: 0.0070,  Val: 0.0074 Test: 0.0073\n",
      "Epoch: 55, Loss: 0.0069,  Val: 0.0075 Test: 0.0073\n",
      "Epoch: 56, Loss: 0.0070,  Val: 0.0073 Test: 0.0072\n",
      "Epoch: 57, Loss: 0.0069,  Val: 0.0076 Test: 0.0077\n",
      "Epoch: 58, Loss: 0.0072,  Val: 0.0075 Test: 0.0075\n",
      "Epoch: 59, Loss: 0.0070,  Val: 0.0072 Test: 0.0071\n",
      "Epoch: 60, Loss: 0.0068,  Val: 0.0072 Test: 0.0073\n",
      "Epoch: 61, Loss: 0.0068,  Val: 0.0073 Test: 0.0071\n",
      "Epoch: 62, Loss: 0.0066,  Val: 0.0071 Test: 0.0070\n",
      "Epoch: 63, Loss: 0.0065,  Val: 0.0068 Test: 0.0068\n",
      "Epoch: 64, Loss: 0.0064,  Val: 0.0069 Test: 0.0069\n",
      "Epoch: 65, Loss: 0.0062,  Val: 0.0066 Test: 0.0065\n",
      "Epoch: 66, Loss: 0.0061,  Val: 0.0066 Test: 0.0064\n",
      "Epoch: 67, Loss: 0.0060,  Val: 0.0066 Test: 0.0064\n",
      "Epoch: 68, Loss: 0.0060,  Val: 0.0064 Test: 0.0062\n",
      "Epoch: 69, Loss: 0.0059,  Val: 0.0067 Test: 0.0065\n",
      "Epoch: 70, Loss: 0.0060,  Val: 0.0065 Test: 0.0064\n",
      "Epoch: 71, Loss: 0.0059,  Val: 0.0063 Test: 0.0062\n",
      "Epoch: 72, Loss: 0.0058,  Val: 0.0062 Test: 0.0061\n",
      "Epoch: 73, Loss: 0.0057,  Val: 0.0063 Test: 0.0063\n",
      "Epoch: 74, Loss: 0.0057,  Val: 0.0064 Test: 0.0063\n",
      "Epoch: 75, Loss: 0.0057,  Val: 0.0061 Test: 0.0061\n",
      "Epoch: 76, Loss: 0.0056,  Val: 0.0061 Test: 0.0062\n",
      "Epoch: 77, Loss: 0.0055,  Val: 0.0059 Test: 0.0059\n",
      "Epoch: 78, Loss: 0.0054,  Val: 0.0062 Test: 0.0061\n",
      "Epoch: 79, Loss: 0.0055,  Val: 0.0062 Test: 0.0059\n",
      "Epoch: 80, Loss: 0.0055,  Val: 0.0060 Test: 0.0059\n",
      "Epoch: 81, Loss: 0.0055,  Val: 0.0059 Test: 0.0058\n",
      "Epoch: 82, Loss: 0.0053,  Val: 0.0059 Test: 0.0057\n",
      "Epoch: 83, Loss: 0.0055,  Val: 0.0060 Test: 0.0059\n",
      "Epoch: 84, Loss: 0.0054,  Val: 0.0058 Test: 0.0058\n",
      "Epoch: 85, Loss: 0.0053,  Val: 0.0058 Test: 0.0056\n",
      "Epoch: 86, Loss: 0.0052,  Val: 0.0055 Test: 0.0056\n",
      "Epoch: 87, Loss: 0.0051,  Val: 0.0058 Test: 0.0057\n",
      "Epoch: 88, Loss: 0.0050,  Val: 0.0056 Test: 0.0055\n",
      "Epoch: 89, Loss: 0.0049,  Val: 0.0056 Test: 0.0054\n",
      "Epoch: 90, Loss: 0.0051,  Val: 0.0056 Test: 0.0055\n",
      "Epoch: 91, Loss: 0.0049,  Val: 0.0054 Test: 0.0054\n",
      "Epoch: 92, Loss: 0.0048,  Val: 0.0053 Test: 0.0051\n",
      "Epoch: 93, Loss: 0.0048,  Val: 0.0054 Test: 0.0052\n",
      "Epoch: 94, Loss: 0.0049,  Val: 0.0054 Test: 0.0052\n",
      "Epoch: 95, Loss: 0.0048,  Val: 0.0054 Test: 0.0053\n",
      "Epoch: 96, Loss: 0.0050,  Val: 0.0053 Test: 0.0055\n",
      "Epoch: 97, Loss: 0.0049,  Val: 0.0053 Test: 0.0053\n",
      "Epoch: 98, Loss: 0.0047,  Val: 0.0051 Test: 0.0050\n",
      "Epoch: 99, Loss: 0.0046,  Val: 0.0054 Test: 0.0053\n",
      "Epoch: 100, Loss: 0.0046,  Val: 0.0052 Test: 0.0052\n",
      "Epoch: 101, Loss: 0.0048,  Val: 0.0052 Test: 0.0051\n",
      "Epoch: 102, Loss: 0.0047,  Val: 0.0052 Test: 0.0051\n",
      "Epoch: 103, Loss: 0.0045,  Val: 0.0051 Test: 0.0049\n",
      "Epoch: 104, Loss: 0.0045,  Val: 0.0052 Test: 0.0050\n",
      "Epoch: 105, Loss: 0.0044,  Val: 0.0049 Test: 0.0048\n",
      "Epoch: 106, Loss: 0.0043,  Val: 0.0049 Test: 0.0049\n",
      "Epoch: 107, Loss: 0.0043,  Val: 0.0050 Test: 0.0048\n",
      "Epoch: 108, Loss: 0.0044,  Val: 0.0049 Test: 0.0048\n",
      "Epoch: 109, Loss: 0.0043,  Val: 0.0049 Test: 0.0048\n",
      "Epoch: 110, Loss: 0.0043,  Val: 0.0048 Test: 0.0049\n",
      "Epoch: 111, Loss: 0.0043,  Val: 0.0047 Test: 0.0047\n",
      "Epoch: 112, Loss: 0.0042,  Val: 0.0051 Test: 0.0049\n",
      "Epoch: 113, Loss: 0.0043,  Val: 0.0049 Test: 0.0048\n",
      "Epoch: 114, Loss: 0.0043,  Val: 0.0049 Test: 0.0047\n",
      "Epoch: 115, Loss: 0.0041,  Val: 0.0047 Test: 0.0045\n",
      "Epoch: 116, Loss: 0.0043,  Val: 0.0048 Test: 0.0047\n",
      "Epoch: 117, Loss: 0.0043,  Val: 0.0048 Test: 0.0048\n",
      "Epoch: 118, Loss: 0.0041,  Val: 0.0049 Test: 0.0048\n",
      "Epoch: 119, Loss: 0.0042,  Val: 0.0047 Test: 0.0046\n",
      "Epoch: 120, Loss: 0.0041,  Val: 0.0047 Test: 0.0046\n",
      "Epoch: 121, Loss: 0.0041,  Val: 0.0047 Test: 0.0046\n",
      "Epoch: 122, Loss: 0.0040,  Val: 0.0045 Test: 0.0044\n",
      "Epoch: 123, Loss: 0.0040,  Val: 0.0046 Test: 0.0045\n",
      "Epoch: 124, Loss: 0.0040,  Val: 0.0046 Test: 0.0043\n",
      "Epoch: 125, Loss: 0.0041,  Val: 0.0046 Test: 0.0045\n",
      "Epoch: 126, Loss: 0.0040,  Val: 0.0046 Test: 0.0044\n",
      "Epoch: 127, Loss: 0.0039,  Val: 0.0044 Test: 0.0043\n",
      "Epoch: 128, Loss: 0.0038,  Val: 0.0044 Test: 0.0044\n",
      "Epoch: 129, Loss: 0.0039,  Val: 0.0045 Test: 0.0044\n",
      "Epoch: 130, Loss: 0.0039,  Val: 0.0046 Test: 0.0046\n",
      "Epoch: 131, Loss: 0.0038,  Val: 0.0043 Test: 0.0042\n",
      "Epoch: 132, Loss: 0.0039,  Val: 0.0045 Test: 0.0044\n",
      "Epoch: 133, Loss: 0.0039,  Val: 0.0045 Test: 0.0043\n",
      "Epoch: 134, Loss: 0.0039,  Val: 0.0046 Test: 0.0044\n",
      "Epoch: 135, Loss: 0.0038,  Val: 0.0042 Test: 0.0041\n",
      "Epoch: 136, Loss: 0.0037,  Val: 0.0044 Test: 0.0042\n",
      "Epoch: 137, Loss: 0.0036,  Val: 0.0042 Test: 0.0042\n",
      "Epoch: 138, Loss: 0.0038,  Val: 0.0044 Test: 0.0043\n",
      "Epoch: 139, Loss: 0.0036,  Val: 0.0042 Test: 0.0042\n",
      "Epoch: 140, Loss: 0.0037,  Val: 0.0047 Test: 0.0046\n",
      "Epoch: 141, Loss: 0.0038,  Val: 0.0041 Test: 0.0041\n",
      "Epoch: 142, Loss: 0.0036,  Val: 0.0041 Test: 0.0040\n",
      "Epoch: 143, Loss: 0.0036,  Val: 0.0041 Test: 0.0039\n",
      "Epoch: 144, Loss: 0.0035,  Val: 0.0041 Test: 0.0039\n",
      "Epoch: 145, Loss: 0.0035,  Val: 0.0041 Test: 0.0039\n",
      "Epoch: 146, Loss: 0.0036,  Val: 0.0041 Test: 0.0040\n",
      "Epoch: 147, Loss: 0.0035,  Val: 0.0040 Test: 0.0040\n",
      "Epoch: 148, Loss: 0.0035,  Val: 0.0041 Test: 0.0040\n",
      "Epoch: 149, Loss: 0.0037,  Val: 0.0043 Test: 0.0042\n",
      "Epoch: 150, Loss: 0.0037,  Val: 0.0042 Test: 0.0041\n",
      "Epoch: 151, Loss: 0.0034,  Val: 0.0040 Test: 0.0038\n",
      "Epoch: 152, Loss: 0.0035,  Val: 0.0040 Test: 0.0041\n",
      "Epoch: 153, Loss: 0.0034,  Val: 0.0040 Test: 0.0039\n",
      "Epoch: 154, Loss: 0.0033,  Val: 0.0039 Test: 0.0038\n",
      "Epoch: 155, Loss: 0.0035,  Val: 0.0042 Test: 0.0041\n",
      "Epoch: 156, Loss: 0.0037,  Val: 0.0042 Test: 0.0042\n",
      "Epoch: 157, Loss: 0.0035,  Val: 0.0039 Test: 0.0039\n",
      "Epoch: 158, Loss: 0.0033,  Val: 0.0038 Test: 0.0038\n",
      "Epoch: 159, Loss: 0.0033,  Val: 0.0038 Test: 0.0037\n",
      "Epoch: 160, Loss: 0.0033,  Val: 0.0040 Test: 0.0040\n",
      "Epoch: 161, Loss: 0.0034,  Val: 0.0040 Test: 0.0039\n",
      "Epoch: 162, Loss: 0.0034,  Val: 0.0038 Test: 0.0037\n",
      "Epoch: 163, Loss: 0.0032,  Val: 0.0038 Test: 0.0037\n",
      "Epoch: 164, Loss: 0.0032,  Val: 0.0037 Test: 0.0037\n",
      "Epoch: 165, Loss: 0.0032,  Val: 0.0040 Test: 0.0040\n",
      "Epoch: 166, Loss: 0.0033,  Val: 0.0038 Test: 0.0037\n",
      "Epoch: 167, Loss: 0.0032,  Val: 0.0038 Test: 0.0038\n",
      "Epoch: 168, Loss: 0.0033,  Val: 0.0038 Test: 0.0037\n",
      "Epoch: 169, Loss: 0.0032,  Val: 0.0040 Test: 0.0039\n",
      "Epoch: 170, Loss: 0.0033,  Val: 0.0040 Test: 0.0039\n",
      "Epoch: 171, Loss: 0.0034,  Val: 0.0038 Test: 0.0038\n",
      "Epoch: 172, Loss: 0.0033,  Val: 0.0038 Test: 0.0038\n",
      "Epoch: 173, Loss: 0.0033,  Val: 0.0038 Test: 0.0037\n",
      "Epoch: 174, Loss: 0.0032,  Val: 0.0039 Test: 0.0038\n",
      "Epoch: 175, Loss: 0.0032,  Val: 0.0040 Test: 0.0038\n",
      "Epoch: 176, Loss: 0.0033,  Val: 0.0038 Test: 0.0038\n",
      "Epoch: 177, Loss: 0.0033,  Val: 0.0038 Test: 0.0036\n",
      "Epoch: 178, Loss: 0.0033,  Val: 0.0039 Test: 0.0038\n",
      "Epoch: 179, Loss: 0.0031,  Val: 0.0036 Test: 0.0036\n",
      "Epoch: 180, Loss: 0.0031,  Val: 0.0037 Test: 0.0036\n",
      "Epoch: 181, Loss: 0.0031,  Val: 0.0036 Test: 0.0036\n",
      "Epoch: 182, Loss: 0.0032,  Val: 0.0039 Test: 0.0038\n",
      "Epoch: 183, Loss: 0.0031,  Val: 0.0037 Test: 0.0036\n",
      "Epoch: 184, Loss: 0.0030,  Val: 0.0034 Test: 0.0034\n",
      "Epoch: 185, Loss: 0.0029,  Val: 0.0036 Test: 0.0035\n",
      "Epoch: 186, Loss: 0.0030,  Val: 0.0036 Test: 0.0034\n",
      "Epoch: 187, Loss: 0.0030,  Val: 0.0035 Test: 0.0035\n",
      "Epoch: 188, Loss: 0.0030,  Val: 0.0037 Test: 0.0035\n",
      "Epoch: 189, Loss: 0.0029,  Val: 0.0035 Test: 0.0034\n",
      "Epoch: 190, Loss: 0.0029,  Val: 0.0035 Test: 0.0034\n",
      "Epoch: 191, Loss: 0.0030,  Val: 0.0036 Test: 0.0035\n",
      "Epoch: 192, Loss: 0.0029,  Val: 0.0034 Test: 0.0034\n",
      "Epoch: 193, Loss: 0.0030,  Val: 0.0035 Test: 0.0034\n",
      "Epoch: 194, Loss: 0.0031,  Val: 0.0037 Test: 0.0037\n",
      "Epoch: 195, Loss: 0.0030,  Val: 0.0036 Test: 0.0036\n",
      "Epoch: 196, Loss: 0.0031,  Val: 0.0036 Test: 0.0035\n",
      "Epoch: 197, Loss: 0.0030,  Val: 0.0035 Test: 0.0034\n",
      "Epoch: 198, Loss: 0.0029,  Val: 0.0036 Test: 0.0033\n",
      "Epoch: 199, Loss: 0.0029,  Val: 0.0035 Test: 0.0035\n",
      "Epoch: 200, Loss: 0.0029,  Val: 0.0034 Test: 0.0033\n",
      "              MSE   RMSE    MAE     R2\n",
      "office      0.002  0.049  0.035  0.921\n",
      "sustenance  0.002  0.042  0.029  0.946\n",
      "transport   0.003  0.052  0.037  0.931\n",
      "retail      0.004  0.060  0.043  0.884\n",
      "leisure     0.004  0.065  0.048  0.860\n",
      "residence   0.004  0.066  0.048  0.879\n"
     ]
    }
   ],
   "source": [
    "## TRAINING\n",
    "for epoch in range(1, epoch_num + 1):\n",
    "    loss = train(model_name, model, train_loader, optimizer, device)\n",
    "    val_acc = test(model_name, model, val_loader, device)\n",
    "    test_acc = test(model_name, model, test_loader, device)\n",
    "    print(f'Epoch: {epoch:02d}, Loss: {loss:.4f}, ',\n",
    "          f'Val: {val_acc:.4f} Test: {test_acc:.4f}')\n",
    "\n",
    "## EVALUATION & SAVING\n",
    "results = evaluation(model_name, model, test_loader, device)\n",
    "print(results)"
   ],
   "metadata": {
    "collapsed": false
   }
  },
  {
   "cell_type": "markdown",
   "source": [
    "## Comput Counterfactuals"
   ],
   "metadata": {
    "collapsed": false
   }
  },
  {
   "cell_type": "code",
   "execution_count": 5,
   "outputs": [],
   "source": [
    "from torch_geometric.utils import k_hop_subgraph\n",
    "from torch.nn.functional import cosine_similarity\n",
    "\n",
    "# construct neighbouring graph\n",
    "def get_1hop_complete_subgraph(data, node_idx):\n",
    "    \"\"\"\n",
    "    from the input graph, specify a node index, get 1-hop neighbourhood of the node,\n",
    "    both from source to target (input node as target)\n",
    "    and from target to source (input node as source)\n",
    "    :param data: torch geometric data, full dataset\n",
    "    :param node_idx: int, node index\n",
    "    :return: tensor list of neighbouring node indices including node index, tensor list of edges\n",
    "    \"\"\"\n",
    "    stt_subgraph_info = k_hop_subgraph(node_idx=node_idx, num_hops=1, edge_index=data.edge_index,\n",
    "                                       relabel_nodes=False, flow=\"source_to_target\")\n",
    "    tts_subgraph_info = k_hop_subgraph(node_idx=node_idx, num_hops=1, edge_index=data.edge_index,\n",
    "                                       relabel_nodes=False, flow=\"target_to_source\")\n",
    "    stt_nodes = stt_subgraph_info[0]\n",
    "    tts_nodes = tts_subgraph_info[0]\n",
    "    subg_nodes = torch.unique(torch.cat((stt_nodes, tts_nodes)))\n",
    "    stt_edges = stt_subgraph_info[1].t()\n",
    "    tts_edges = tts_subgraph_info[1].t()\n",
    "    subg_edges = torch.unique(torch.cat((stt_edges, tts_edges), dim=0), dim=0)\n",
    "    return subg_nodes, subg_edges"
   ],
   "metadata": {
    "collapsed": false
   }
  },
  {
   "cell_type": "code",
   "execution_count": 6,
   "outputs": [],
   "source": [
    "def graph_dissimilarity(data, edge_idx_store, node_idx_1, subg_nodes_1, subg_edges_1, subg_nodes_2, subg_edges_2,\n",
    "                        lamb_n=1, lamb_e=1, lamb_g=1):\n",
    "    return lamb_n * node_features_dissimilarity(data, node_idx_1, subg_nodes_2) + lamb_e * edge_features_dissimilarity(\n",
    "        data, edge_idx_store, subg_edges_1, subg_edges_2) + lamb_g * graph_structure_dissimilarity(subg_edges_1,\n",
    "                                                                                                   subg_edges_2)\n",
    "\n",
    "\n",
    "# node features dissimilarity ranged [0, 1]:\n",
    "# normalised L2 distance + cosine distance, between the input node 1 and the neighbouring nodes of node 2\n",
    "def node_features_dissimilarity(data, node_idx_1, sug_nodes_2):\n",
    "    feat1 = data.x[node_idx_1].view(1, -1)\n",
    "    feat2 = data.x[sug_nodes_2]\n",
    "    return (torch.norm(feat2 - feat1, p=2, dim=1).mean() / (\n",
    "            (torch.norm(feat2, p=2, dim=1).mean()) + torch.norm(feat1, p=2)) + (\n",
    "                    1 - (cosine_similarity(feat1, feat2).mean() + 1) / 2)) / 2\n",
    "\n",
    "\n",
    "# edge features dissimilarity ranged [0, 1]:\n",
    "def edge_features_dissimilarity(data, edge_idx_store, subg_edges_1, subg_edges_2):\n",
    "    idxs1 = get_edge_idx(edge_idx_store, subg_edges_1)\n",
    "    idxs2 = get_edge_idx(edge_idx_store, subg_edges_2)\n",
    "    edge_attrs = data.edge_attr[:, 1:].argmax(dim=1).to(torch.float32)\n",
    "    edge_attrs1 = edge_attrs[idxs1]\n",
    "    edge_attrs2 = edge_attrs[idxs2]\n",
    "    return (edge_attrs1.mean() - edge_attrs2.mean()).abs() / 4\n",
    "\n",
    "\n",
    "def get_edge_idx(edge_idx_store, subg_edges):\n",
    "    idxs = []\n",
    "    for item in subg_edges:\n",
    "        idxs.append(edge_idx_store[f\"{item[0]},{item[1]}\"])\n",
    "    return torch.Tensor(idxs).to(torch.int64)\n",
    "\n",
    "\n",
    "# graph structure dissimilarity\n",
    "def graph_structure_dissimilarity(subg_edges_1, subg_edges_2):\n",
    "    return abs(len(subg_edges_1) - len(subg_edges_2)) / max(len(subg_edges_1), len(subg_edges_2))"
   ],
   "metadata": {
    "collapsed": false
   }
  },
  {
   "cell_type": "code",
   "execution_count": 7,
   "outputs": [],
   "source": [
    "def compute_counterfactual(node_idx, target_prediction, predictions, data, edge_idx_store):\n",
    "    \"\"\"\n",
    "    compute one counterfactual for node indicated by node_idx\n",
    "    :param node_idx: int\n",
    "    :param predictions: predictions, either regression or classification\n",
    "    :param target_prediction\n",
    "    :param data\n",
    "    :return: counterfactual node, counterfactual subgraph, input subgraph, graph dissimilarity with input graph\n",
    "    \"\"\"\n",
    "    candidate_ces_idxs = torch.where(predictions==target_prediction)[0]\n",
    "    explainee_sgraph = get_1hop_complete_subgraph(data, node_idx)\n",
    "    optimal_ce_node = None\n",
    "    optimal_ce_sgraph = None\n",
    "    optimal_ce_dissimilarity = 100\n",
    "    for idx in candidate_ces_idxs:\n",
    "        candidate_ce_sgraph = get_1hop_complete_subgraph(data, int(idx))\n",
    "        this_ce_dissimilarity = graph_dissimilarity(data, edge_idx_store, node_idx, explainee_sgraph[0], explainee_sgraph[1], candidate_ce_sgraph[0], candidate_ce_sgraph[1])\n",
    "        if this_ce_dissimilarity <= optimal_ce_dissimilarity:\n",
    "            optimal_ce_dissimilarity = this_ce_dissimilarity\n",
    "            optimal_ce_node = idx\n",
    "            optimal_ce_sgraph = candidate_ce_sgraph\n",
    "    return optimal_ce_node, optimal_ce_sgraph, explainee_sgraph, optimal_ce_dissimilarity"
   ],
   "metadata": {
    "collapsed": false
   }
  },
  {
   "cell_type": "markdown",
   "source": [
    "## Example usage"
   ],
   "metadata": {
    "collapsed": false
   }
  },
  {
   "cell_type": "code",
   "execution_count": 21,
   "outputs": [],
   "source": [
    "# get all predictions and transform to classification labels\n",
    "y_pred = model(data.x, data.edge_index, data.edge_attr[:, 1:].argmax(dim=1))\n",
    "y_pred_class = torch.argmax(y_pred, dim=1)\n",
    "\n",
    "# construct a dict to store index for edge index\n",
    "edge_idx_store = {}\n",
    "for i, item in enumerate(data.edge_index.t()):\n",
    "    edge_idx_store[f\"{item[0]},{item[1]}\"] = i"
   ],
   "metadata": {
    "collapsed": false
   }
  },
  {
   "cell_type": "code",
   "execution_count": 28,
   "outputs": [
    {
     "name": "stdout",
     "output_type": "stream",
     "text": [
      "(tensor([  40,   46,   51,   67,   86,   88,   89,   91,   96,  103,  118,  123,\n",
      "         129,  174,  321, 1090, 1346, 2220, 2249, 2250, 2257, 2268, 2273, 2755,\n",
      "        2898, 3163, 3167, 3332, 3333, 3534, 3535, 3671, 3672, 3726, 3918, 4032,\n",
      "        4033, 4051, 4058, 4105, 4146, 4159, 4165, 4188, 4192]),)\n"
     ]
    }
   ],
   "source": [
    "print(torch.where(y_pred_class==0))"
   ],
   "metadata": {
    "collapsed": false
   }
  },
  {
   "cell_type": "code",
   "execution_count": 52,
   "outputs": [
    {
     "name": "stdout",
     "output_type": "stream",
     "text": [
      "original prediction: class 0\n"
     ]
    }
   ],
   "source": [
    "# want to explain the prediction result for node\n",
    "node_idx = 2220\n",
    "print(\"original prediction: class\", int(y_pred_class[node_idx]))"
   ],
   "metadata": {
    "collapsed": false
   }
  },
  {
   "cell_type": "code",
   "execution_count": 53,
   "outputs": [],
   "source": [
    "# want to find counterfactual explanation for class 5\n",
    "target_prediction = 5\n",
    "optimal_ce_node, optimal_ce_sgraph, explainee_sgraph, optimal_ce_dissimilarity = compute_counterfactual(node_idx=node_idx, target_prediction=target_prediction, predictions=y_pred_class, data=data, edge_idx_store=edge_idx_store)"
   ],
   "metadata": {
    "collapsed": false
   }
  },
  {
   "cell_type": "code",
   "execution_count": 54,
   "outputs": [
    {
     "name": "stdout",
     "output_type": "stream",
     "text": [
      "tensor(2312) tensor(5) tensor(0.1703)\n"
     ]
    }
   ],
   "source": [
    "# print out counterfactual node information\n",
    "print(optimal_ce_node, y_pred_class[optimal_ce_node], optimal_ce_dissimilarity)"
   ],
   "metadata": {
    "collapsed": false
   }
  },
  {
   "cell_type": "code",
   "execution_count": 55,
   "outputs": [
    {
     "name": "stdout",
     "output_type": "stream",
     "text": [
      "tensor([5, 5, 5, 5, 5, 5, 5, 5, 5, 5, 5])\n"
     ]
    }
   ],
   "source": [
    "# print out counterfactual graph information: classification results, to examine whether they are all in the same class\n",
    "print(y_pred_class[optimal_ce_sgraph[0]])"
   ],
   "metadata": {
    "collapsed": false
   }
  },
  {
   "cell_type": "code",
   "execution_count": 56,
   "outputs": [
    {
     "name": "stdout",
     "output_type": "stream",
     "text": [
      "torch.Size([11])\n"
     ]
    }
   ],
   "source": [
    "print(optimal_ce_sgraph[0].shape)"
   ],
   "metadata": {
    "collapsed": false
   }
  },
  {
   "cell_type": "code",
   "execution_count": 58,
   "outputs": [
    {
     "data": {
      "text/plain": "[<matplotlib.lines.Line2D at 0x2229ef8ead0>]"
     },
     "execution_count": 58,
     "metadata": {},
     "output_type": "execute_result"
    },
    {
     "data": {
      "text/plain": "<Figure size 640x480 with 1 Axes>",
      "image/png": "[encoded data removed]"
     },
     "metadata": {},
     "output_type": "display_data"
    }
   ],
   "source": [
    "# plot the node features of explainee node and the nodes in the counterfactual graph:\n",
    "import matplotlib.pyplot as plt\n",
    "fig, ax = plt.subplots()\n",
    "horizontal = range(len(data.x[node_idx]))\n",
    "ax.plot(horizontal, data.x[optimal_ce_node], 'o:', color=\"blueviolet\")\n",
    "colors = [\"aquamarine\", \"turquoise\", \"lightseagreen\", \"mediumturquoise\", \"paleturquoise\", \"teal\", \"aqua\", \"powderblue\", \"deepskyblue\", \"skyblue\", \"dodgerblue\", \"royalblue\", \"lavender\", \"slateblue\", \"lightsteelblue\", \"blue\", \"darkblue\", \"cornflowerblue\", \"lightskyblue\", \"cadetblue\"]\n",
    "for i, item in enumerate(optimal_ce_sgraph[0]):\n",
    "    if int(item) == int(optimal_ce_node):\n",
    "        continue\n",
    "    ax.plot(horizontal, data.x[item], 'o:', color=colors[i], alpha=0.2)\n",
    "ax.plot(horizontal, data.x[node_idx], 'or:')"
   ],
   "metadata": {
    "collapsed": false
   }
  },
  {
   "cell_type": "code",
   "execution_count": null,
   "outputs": [],
   "source": [],
   "metadata": {
    "collapsed": false
   }
  }
 ],
 "metadata": {
  "kernelspec": {
   "display_name": "Python 3",
   "language": "python",
   "name": "python3"
  },
  "language_info": {
   "codemirror_mode": {
    "name": "ipython",
    "version": 2
   },
   "file_extension": ".py",
   "mimetype": "text/x-python",
   "name": "python",
   "nbconvert_exporter": "python",
   "pygments_lexer": "ipython2",
   "version": "2.7.6"
  }
 },
 "nbformat": 4,
 "nbformat_minor": 0
}
